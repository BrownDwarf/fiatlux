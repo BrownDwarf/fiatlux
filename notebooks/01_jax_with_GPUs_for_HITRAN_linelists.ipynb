{
 "cells": [
  {
   "cell_type": "markdown",
   "metadata": {},
   "source": [
    "# Replicating `hapi` behavior with `jax` and GPUs.\n",
    "\n",
    "Here we replicate the behavior of `hapi` with GPU- and autodiff- aware `jax` framework."
   ]
  },
  {
   "cell_type": "code",
   "execution_count": 1,
   "metadata": {},
   "outputs": [],
   "source": [
    "%%capture\n",
    "import astropy.units as u\n",
    "import numpy as np\n",
    "import matplotlib.pyplot as plt\n",
    "\n",
    "%matplotlib inline\n",
    "%config InlineBackend.figure_format = 'retina'\n",
    "\n",
    "import hapi\n",
    "hapi.db_begin('../../hapi/data/')"
   ]
  },
  {
   "cell_type": "code",
   "execution_count": 2,
   "metadata": {},
   "outputs": [
    {
     "name": "stdout",
     "output_type": "stream",
     "text": [
      "272M\t../../hapi/data/\r\n"
     ]
    }
   ],
   "source": [
    "! du -hs ../../hapi/data/"
   ]
  },
  {
   "cell_type": "markdown",
   "metadata": {},
   "source": [
    "### Convert from $\\text{cm}^{-1}$ to Angstroms."
   ]
  },
  {
   "cell_type": "code",
   "execution_count": 3,
   "metadata": {},
   "outputs": [],
   "source": [
    "wls = (np.arange(15000, 25000, 1.0) * u.Angstrom)[::-1]\n",
    "nus = wls.to(1/u.cm, equivalencies=u.spectral()).value\n",
    "wls = wls.value\n",
    "nu_lo, nu_hi = nus.min().astype(np.int), nus.max().astype(np.int)"
   ]
  },
  {
   "cell_type": "markdown",
   "metadata": {},
   "source": [
    "You can calculate the partition function with HAPI."
   ]
  },
  {
   "cell_type": "code",
   "execution_count": 4,
   "metadata": {},
   "outputs": [
    {
     "data": {
      "text/plain": [
       "[174.58122640000002]"
      ]
     },
     "execution_count": 4,
     "metadata": {},
     "output_type": "execute_result"
    }
   ],
   "source": [
    "hapi.partitionSum(1,1, [296])"
   ]
  },
  {
   "cell_type": "markdown",
   "metadata": {},
   "source": [
    "Let's assign wet and dry atmospheric conditions."
   ]
  },
  {
   "cell_type": "code",
   "execution_count": 5,
   "metadata": {},
   "outputs": [],
   "source": [
    "h2o_vol_mix_ratio_wet = 1.0e-3\n",
    "h2o_vol_mix_ratio_dry = 1.0e-6"
   ]
  },
  {
   "cell_type": "code",
   "execution_count": 6,
   "metadata": {},
   "outputs": [
    {
     "name": "stdout",
     "output_type": "stream",
     "text": [
      "{'air': 1.0, 'CO2': 0.000365, 'H2O': 0.001}\n",
      "{'air': 0.999, 'H2O': 0.001, 'CO2': 0.000365}\n",
      "{'air': 0.999999, 'H2O': 1e-06, 'CO2': 0.000365}\n"
     ]
    }
   ],
   "source": [
    "nu, coeff = hapi.absorptionCoefficient_Lorentz(SourceTables='CO2', Diluent={'air':1.0, 'CO2':365.0e-6, 'H2O':h2o_vol_mix_ratio_wet}, WavenumberGrid=nus.tolist(),HITRAN_units=True)\n",
    "nu, coeffw = hapi.absorptionCoefficient_Lorentz(SourceTables='H2O', Diluent={'air':1.0-h2o_vol_mix_ratio_wet, 'H2O':h2o_vol_mix_ratio_wet, 'CO2':365.0e-6}, WavenumberGrid=nus.tolist(), HITRAN_units=True)\n",
    "nu, coeffd = hapi.absorptionCoefficient_Lorentz(SourceTables='H2O', Diluent={'air':1.0-h2o_vol_mix_ratio_dry, 'H2O':h2o_vol_mix_ratio_dry, 'CO2':365.0e-6}, WavenumberGrid=nus.tolist(), HITRAN_units=True)#range(4000,10000,1))"
   ]
  },
  {
   "cell_type": "code",
   "execution_count": 7,
   "metadata": {},
   "outputs": [
    {
     "data": {
      "image/png": "[encoded data removed]",
      "text/plain": [
       "<Figure size 432x288 with 1 Axes>"
      ]
     },
     "metadata": {
      "image/png": {
       "height": 275,
       "width": 379
      },
      "needs_background": "light"
     },
     "output_type": "display_data"
    }
   ],
   "source": [
    "plt.plot(wls, coeffw, label='$H_2O$ wet', alpha=0.3)\n",
    "plt.plot(wls, coeffd, label='$H_2O$ dry', alpha=0.3)\n",
    "plt.plot(wls, coeff, label='CO$_2$')\n",
    "plt.legend()\n",
    "plt.ylabel('Absorption Coefficient (cm$^{-1}$)')\n",
    "plt.xlabel('$\\lambda \\;(\\AA)$');"
   ]
  },
  {
   "cell_type": "markdown",
   "metadata": {},
   "source": [
    "That's the absorption cross section.  Later, we can get the absorption spectrum, which requires knowledge of the path length."
   ]
  },
  {
   "cell_type": "markdown",
   "metadata": {},
   "source": [
    "### Direct computation with GPUs"
   ]
  },
  {
   "cell_type": "code",
   "execution_count": 8,
   "metadata": {},
   "outputs": [],
   "source": [
    "from jax.config import config\n",
    "config.update(\"jax_enable_x64\", True)"
   ]
  },
  {
   "cell_type": "code",
   "execution_count": 9,
   "metadata": {},
   "outputs": [],
   "source": [
    "import jax.numpy as np\n",
    "from jax import vmap, jit, grad, random"
   ]
  },
  {
   "cell_type": "markdown",
   "metadata": {},
   "source": [
    "Compute Lorentz Profiles:  \n",
    "$$ f_{L}(\\nu; \\nu_{ij}, T, p) = \\frac{1}{\\pi}\\frac{\\gamma(p, T)}{\\gamma(p,T)^2, + [\\nu-(\\nu_{ij}+\\delta(p_{ref})p)]^2}$$"
   ]
  },
  {
   "cell_type": "markdown",
   "metadata": {},
   "source": [
    "We'll make an array that is $N_{lines} \\times N_{wl}$ in size"
   ]
  },
  {
   "cell_type": "code",
   "execution_count": 10,
   "metadata": {},
   "outputs": [],
   "source": [
    "@jit\n",
    "def gamma_of_p_and_T(p, T, p_self, n_air, gamma_air_ref, gamma_self_ref):\n",
    "    '''Compute the Lorentz HWHM with pressure and temp'''\n",
    "    return (296.0/T)**n_air *(gamma_air_ref*(p-p_self) + gamma_self_ref*(p_self))"
   ]
  },
  {
   "cell_type": "markdown",
   "metadata": {},
   "source": [
    "Let's try to map this function across all entries in the water line list."
   ]
  },
  {
   "cell_type": "code",
   "execution_count": 11,
   "metadata": {},
   "outputs": [],
   "source": [
    "n_air = hapi.getColumn('H2O', 'n_air')\n",
    "gamma_air = hapi.getColumn('H2O', 'gamma_air')\n",
    "gamma_self = hapi.getColumn('H2O', 'gamma_self')"
   ]
  },
  {
   "cell_type": "code",
   "execution_count": 12,
   "metadata": {},
   "outputs": [
    {
     "name": "stdout",
     "output_type": "stream",
     "text": [
      "CPU times: user 88.9 ms, sys: 140 ms, total: 229 ms\n",
      "Wall time: 309 ms\n"
     ]
    }
   ],
   "source": [
    "%%time\n",
    "gammas = vmap(gamma_of_p_and_T, in_axes=(None, None, None, 0, 0, 0)\\\n",
    "                                )(1.0, 296.0,0.1, n_air, gamma_air, gamma_self)"
   ]
  },
  {
   "cell_type": "markdown",
   "metadata": {},
   "source": [
    "Yay!  We have our gammas to input into the Lorentz profile function"
   ]
  },
  {
   "cell_type": "code",
   "execution_count": 13,
   "metadata": {},
   "outputs": [],
   "source": [
    "@jit\n",
    "def lorentz_profile(nu, p, nu_ij, gamma, dp_ref, S_ij):\n",
    "    '''Return the Lorentz line profile given vectors and parameters'''\n",
    "    return S_ij/np.pi * gamma / ( gamma**2 + (nu - (nu_ij + dp_ref*p))**2)"
   ]
  },
  {
   "cell_type": "code",
   "execution_count": 14,
   "metadata": {},
   "outputs": [],
   "source": [
    "nu_lines = hapi.getColumn('H2O', 'nu')\n",
    "delta_air = hapi.getColumn('H2O', 'delta_air')\n",
    "S_ij = hapi.getColumn('H2O', 'sw')"
   ]
  },
  {
   "cell_type": "code",
   "execution_count": 15,
   "metadata": {},
   "outputs": [],
   "source": [
    "nus, wls = np.array(nus), np.array(wls)\n",
    "nus.shape, gammas.shape"
   ]
  },
  {
   "cell_type": "code",
   "execution_count": 17,
   "metadata": {},
   "outputs": [
    {
     "name": "stdout",
     "output_type": "stream",
     "text": [
      "CPU times: user 18.7 ms, sys: 7.98 ms, total: 26.7 ms\n",
      "Wall time: 73.9 ms\n"
     ]
    }
   ],
   "source": [
    "%%time\n",
    "line_profile = vmap(lorentz_profile, in_axes=(None, None, 0, 0,0, 0))(nus, np.array(1.0),\n",
    "                                                                      nu_lines, gammas, delta_air, S_ij)\n",
    "line_profile.shape, S_ij.shape"
   ]
  },
  {
   "cell_type": "markdown",
   "metadata": {},
   "source": [
    "Nice!  The *net* absorption coefficient is the sum on all lines:"
   ]
  },
  {
   "cell_type": "code",
   "execution_count": 19,
   "metadata": {},
   "outputs": [
    {
     "name": "stdout",
     "output_type": "stream",
     "text": [
      "CPU times: user 15 ms, sys: 8.02 ms, total: 23 ms\n",
      "Wall time: 73.3 ms\n"
     ]
    }
   ],
   "source": [
    "%%time\n",
    "net_abs_coeff = line_profile.sum(axis=0)"
   ]
  },
  {
   "cell_type": "code",
   "execution_count": 22,
   "metadata": {},
   "outputs": [
    {
     "data": {
      "image/png": "[encoded data removed]",
      "text/plain": [
       "<Figure size 432x288 with 1 Axes>"
      ]
     },
     "metadata": {
      "image/png": {
       "height": 258,
       "width": 379
      },
      "needs_background": "light"
     },
     "output_type": "display_data"
    }
   ],
   "source": [
    "plt.plot(wls, net_abs_coeff, alpha=0.3, label='jax/GPU-based calculation')\n",
    "\n",
    "\n",
    "plt.plot(wls, coeffw, label='$H_2O$ wet', alpha=0.3)\n",
    "plt.yscale('linear')\n",
    "plt.ylabel('Absorption Coeff (cm$^{-1}$)')\n",
    "plt.legend();"
   ]
  },
  {
   "cell_type": "markdown",
   "metadata": {},
   "source": [
    "Woohoo, pretty close!!  But not exact.  Let's investigate why."
   ]
  },
  {
   "cell_type": "code",
   "execution_count": null,
   "metadata": {},
   "outputs": [],
   "source": []
  },
  {
   "cell_type": "code",
   "execution_count": null,
   "metadata": {},
   "outputs": [],
   "source": []
  },
  {
   "cell_type": "code",
   "execution_count": null,
   "metadata": {},
   "outputs": [],
   "source": []
  },
  {
   "cell_type": "code",
   "execution_count": 21,
   "metadata": {},
   "outputs": [
    {
     "name": "stdout",
     "output_type": "stream",
     "text": [
      "-----------------------------------------\n",
      "H2O summary:\n",
      "-----------------------------------------\n",
      "Number of rows: 44902\n",
      "Table type: column-fixed\n",
      "-----------------------------------------\n",
      "            PAR_NAME           PAR_FORMAT\n",
      "\n",
      "            molec_id                  %2d\n",
      "        local_iso_id                  %1d\n",
      "                  nu               %12.6f\n",
      "                  sw               %10.3E\n",
      "                   a               %10.3E\n",
      "           gamma_air                %5.4f\n",
      "          gamma_self                %5.3f\n",
      "              elower               %10.4f\n",
      "               n_air                %4.2f\n",
      "           delta_air                %8.6f\n",
      " global_upper_quanta                 %15s\n",
      " global_lower_quanta                 %15s\n",
      "  local_upper_quanta                 %15s\n",
      "  local_lower_quanta                 %15s\n",
      "                ierr                  %6s\n",
      "                iref                 %12s\n",
      "    line_mixing_flag                  %1s\n",
      "                  gp                %7.1f\n",
      "                 gpp                %7.1f\n",
      "-----------------------------------------\n"
     ]
    }
   ],
   "source": [
    "hapi.describeTable('H2O')"
   ]
  },
  {
   "cell_type": "code",
   "execution_count": null,
   "metadata": {},
   "outputs": [],
   "source": []
  }
 ],
 "metadata": {
  "kernelspec": {
   "display_name": "Python 3",
   "language": "python",
   "name": "python3"
  },
  "language_info": {
   "codemirror_mode": {
    "name": "ipython",
    "version": 3
   },
   "file_extension": ".py",
   "mimetype": "text/x-python",
   "name": "python",
   "nbconvert_exporter": "python",
   "pygments_lexer": "ipython3",
   "version": "3.7.7"
  }
 },
 "nbformat": 4,
 "nbformat_minor": 4
}
